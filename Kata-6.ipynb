{
 "cells": [
  {
   "cell_type": "code",
   "execution_count": null,
   "metadata": {},
   "outputs": [],
   "source": [
    "# Kata-6\n",
    "#Ejercicio1: Crear y usar listas de Python\n",
    "\n",
    "planets = ['Mercury', 'Venus', 'Earth', 'Mars', 'Jupiter', 'Saturn', 'Uranus', 'Neptune']\n",
    "planets.append('Pluton')\n",
    "print(planets) \n",
    "\n",
    "mostrarUltimo = planets [8:]\n",
    "print(mostrarUltimo)"
   ]
  },
  {
   "cell_type": "code",
   "execution_count": null,
   "metadata": {},
   "outputs": [],
   "source": [
    "#Ejercicio 2: Trabajando con datos de una lista\n",
    "\n",
    "# Lista de planetas\n",
    "planets = ['Mercury', 'Venus', 'Earth', 'Mars', 'Jupiter', 'Saturn', 'Neptune']\n",
    "\n",
    "nombrePlaneta = input(\"Por favor escriba el nombre del planeta empezando con una mayuscula: \")\n",
    "buscarPlaneta = planets.index(nombrePlaneta)\n",
    "print('El planeta '+ nombrePlaneta ,'Esta en el indice', buscarPlaneta + 1)\n",
    "\n",
    "print('Aquí están los planetas más cerca que ' + nombrePlaneta)\n",
    "print(planets[0:buscarPlaneta])\n",
    "\n",
    "print('Aquí están los planetas más lejos que ' + nombrePlaneta)\n",
    "print(planets[buscarPlaneta + 1:])"
   ]
  }
 ],
 "metadata": {
  "interpreter": {
   "hash": "751698ec237da9ec8f3e8b57f8fe34715419c09858d2fb4c02ab04fd1560b3c9"
  },
  "kernelspec": {
   "display_name": "Python 3.10.2 64-bit",
   "language": "python",
   "name": "python3"
  },
  "language_info": {
   "codemirror_mode": {
    "name": "ipython",
    "version": 3
   },
   "file_extension": ".py",
   "mimetype": "text/x-python",
   "name": "python",
   "nbconvert_exporter": "python",
   "pygments_lexer": "ipython3",
   "version": "3.10.2"
  },
  "orig_nbformat": 4
 },
 "nbformat": 4,
 "nbformat_minor": 2
}
