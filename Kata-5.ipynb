{
 "cells": [
  {
   "cell_type": "code",
   "execution_count": null,
   "metadata": {},
   "outputs": [],
   "source": [
    "#Kat-5\n",
    "#Ejercicio1 - Utilizar operadores aritméticos\n",
    "\n",
    "Tierra = 149597870\n",
    "jupiter = 778547200\n",
    "\n",
    "distancia_en_km = Tierra - jupiter\n",
    "print(distancia_en_km)\n",
    "\n",
    "distancia_en_mi = distancia_en_km * 0.621\n",
    "print(distancia_en_mi)\n",
    "\n",
    "\n",
    "\n",
    "\n"
   ]
  },
  {
   "cell_type": "code",
   "execution_count": null,
   "metadata": {},
   "outputs": [],
   "source": [
    "#Ejercicio 2: convierte cadenas en números y usa valores absolutos\n",
    "\n",
    "planeta1 = input(\"Agregue la distancia del sol\")\n",
    "planeta2 = input(\"Agregue la distancia de un planeta\")\n",
    "\n",
    "planeta1 = int(planeta1)\n",
    "planeta2 = int(planeta2)\n",
    "\n",
    "distancia = planeta1 - planeta2\n",
    "print(distancia)\n",
    "\n",
    "\n"
   ]
  }
 ],
 "metadata": {
  "interpreter": {
   "hash": "751698ec237da9ec8f3e8b57f8fe34715419c09858d2fb4c02ab04fd1560b3c9"
  },
  "kernelspec": {
   "display_name": "Python 3.10.2 64-bit",
   "language": "python",
   "name": "python3"
  },
  "language_info": {
   "codemirror_mode": {
    "name": "ipython",
    "version": 3
   },
   "file_extension": ".py",
   "mimetype": "text/x-python",
   "name": "python",
   "nbconvert_exporter": "python",
   "pygments_lexer": "ipython3",
   "version": "3.10.2"
  },
  "orig_nbformat": 4
 },
 "nbformat": 4,
 "nbformat_minor": 2
}
