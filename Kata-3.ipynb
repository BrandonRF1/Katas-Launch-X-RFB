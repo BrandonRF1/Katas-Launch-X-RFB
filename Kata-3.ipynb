{
 "cells": [
  {
   "cell_type": "code",
   "execution_count": 1,
   "metadata": {},
   "outputs": [
    {
     "name": "stdout",
     "output_type": "stream",
     "text": [
      "Bienvenido al programa que avisa si el asteroide esta cerca\n",
      "No hay peligro el asteroide viene muy lento \n"
     ]
    }
   ],
   "source": [
    "#Kata-3\n",
    "\n",
    "asteroide = 25 #(km/s)\n",
    "velocidad = 4 #Velocidad del asteroide\n",
    "print(\"Bienvenido al programa que avisa si el asteroide esta cerca\")\n",
    "\n",
    "if velocidad > asteroide:\n",
    "    print(\"Advertencia el asteroide se acerca demasiado rapido\")\n",
    "elif velocidad < asteroide:\n",
    "    print(\"No hay peligro el asteroide viene muy lento \")\n",
    "\n",
    "\n",
    "\n",
    "\n"
   ]
  },
  {
   "cell_type": "code",
   "execution_count": 2,
   "metadata": {},
   "outputs": [
    {
     "name": "stdout",
     "output_type": "stream",
     "text": [
      "Bienvenido al programa que avisa si se produce un rayo de luz que se puede ver desde la Tierra\n",
      "Personas de todo el mundo deben buscar un asteroide en el cielo\n"
     ]
    }
   ],
   "source": [
    "asteroide = 20 #(km/s)\n",
    "velocidad = 20 #Velocidad del asteroide\n",
    "print(\"Bienvenido al programa que avisa si se produce un rayo de luz que se puede ver desde la Tierra\")\n",
    "\n",
    "if velocidad >= asteroide:\n",
    "    print(\"Personas de todo el mundo deben buscar un asteroide en el cielo\")\n",
    "elif velocidad < asteroide:\n",
    "    print(\"No hay rayo de luz :( \")"
   ]
  },
  {
   "cell_type": "code",
   "execution_count": 3,
   "metadata": {},
   "outputs": [
    {
     "name": "stdout",
     "output_type": "stream",
     "text": [
      "No hay peligro el asteroide viene muy lento \n"
     ]
    }
   ],
   "source": [
    "asteroide = 25 #(km/s)\n",
    "velocidad = 4 #Velocidad del asteroide\n",
    "metros_en_adelante = 25\n",
    "metros_antes = 100\n",
    "\n",
    "if velocidad > asteroide:\n",
    "    print(\"Advertencia el asteroide se acerca demasiado rapido\")\n",
    "elif velocidad < asteroide:\n",
    "    print(\"No hay peligro el asteroide viene muy lento \")\n",
    "elif metros_en_adelante or metros_antes:\n",
    "    print(\"golpeara la Tierra, causaría mucho daño.\")"
   ]
  }
 ],
 "metadata": {
  "interpreter": {
   "hash": "751698ec237da9ec8f3e8b57f8fe34715419c09858d2fb4c02ab04fd1560b3c9"
  },
  "kernelspec": {
   "display_name": "Python 3.10.2 64-bit",
   "language": "python",
   "name": "python3"
  },
  "language_info": {
   "codemirror_mode": {
    "name": "ipython",
    "version": 3
   },
   "file_extension": ".py",
   "mimetype": "text/x-python",
   "name": "python",
   "nbconvert_exporter": "python",
   "pygments_lexer": "ipython3",
   "version": "3.10.2"
  },
  "orig_nbformat": 4
 },
 "nbformat": 4,
 "nbformat_minor": 2
}
