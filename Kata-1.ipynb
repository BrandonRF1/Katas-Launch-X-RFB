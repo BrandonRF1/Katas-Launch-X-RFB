{
 "cells": [
  {
   "cell_type": "code",
   "execution_count": 1,
   "metadata": {},
   "outputs": [
    {
     "name": "stdout",
     "output_type": "stream",
     "text": [
      "La fecha de hoy capitan es: 2022-02-09\n"
     ]
    }
   ],
   "source": [
    "#Kata del modulo 1\n",
    "\n",
    "from datetime import date\n",
    "date.today()\n",
    "print(\"La fecha de hoy capitan es: \" + str(date.today()))"
   ]
  },
  {
   "cell_type": "code",
   "execution_count": 3,
   "metadata": {},
   "outputs": [
    {
     "name": "stdout",
     "output_type": "stream",
     "text": [
      "Capitan ya se realizo el calculo es: \n",
      "10 parsec, es 32.6156 Años luz\n"
     ]
    }
   ],
   "source": [
    "parsec = 10\n",
    "lightyears = 3.26156 * parsec\n",
    "print(\"Capitan ya se realizo el calculo es: \")\n",
    "print(str(parsec) + \" parsec, es \" + str(lightyears) + \" Años luz\")"
   ]
  }
 ],
 "metadata": {
  "interpreter": {
   "hash": "751698ec237da9ec8f3e8b57f8fe34715419c09858d2fb4c02ab04fd1560b3c9"
  },
  "kernelspec": {
   "display_name": "Python 3.10.2 64-bit",
   "language": "python",
   "name": "python3"
  },
  "language_info": {
   "codemirror_mode": {
    "name": "ipython",
    "version": 3
   },
   "file_extension": ".py",
   "mimetype": "text/x-python",
   "name": "python",
   "nbconvert_exporter": "python",
   "pygments_lexer": "ipython3",
   "version": "3.10.2"
  },
  "orig_nbformat": 4
 },
 "nbformat": 4,
 "nbformat_minor": 2
}
