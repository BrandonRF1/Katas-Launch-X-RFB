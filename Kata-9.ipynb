{
 "cells": [
  {
   "cell_type": "code",
   "execution_count": null,
   "metadata": {},
   "outputs": [],
   "source": [
    "# Kata - 9\n",
    "#Ejercicio 1: Trabajar con argumentos en funciones\n",
    "\n",
    "def generar_reporte(tanque_principal, tanque_externo, tanque_de_hidrógeno):\n",
    "    promedio_total = (tanque_principal + tanque_externo + tanque_de_hidrógeno) / 3\n",
    "    return f\"\"\"Informe de combustible:\n",
    "    promedio total: {promedio_total}%\n",
    "    Tanque principal: {tanque_principal}%\n",
    "    External tank: {tanque_externo}%\n",
    "    Hydrogen tank: {tanque_de_hidrógeno}% \"\"\"\n",
    "\n",
    "print(generar_reporte(80, 70, 85))\n",
    "\n",
    "def promedio(valores):\n",
    "    total = sum(valores)\n",
    "    número_de_artículos = len(valores)\n",
    "    return total / número_de_artículos\n",
    "promedio([80, 85, 81]) \n",
    "\n",
    "def generar_reporte(tanque_principal, tanque_externo, tanque_de_hidrógeno):\n",
    "    return f\"\"\"informe de combustible:\n",
    "    promedio total: {promedio([tanque_principal, tanque_externo, tanque_de_hidrógeno])}%\n",
    "    Tanque principal: {tanque_principal}%\n",
    "    Tanque externo: {tanque_externo}%\n",
    "    Tanque de hidrógeno: {tanque_de_hidrógeno}% \"\"\"\n",
    "print(generar_reporte(88, 76, 70))"
   ]
  },
  {
   "cell_type": "code",
   "execution_count": null,
   "metadata": {},
   "outputs": [],
   "source": []
  }
 ],
 "metadata": {
  "interpreter": {
   "hash": "751698ec237da9ec8f3e8b57f8fe34715419c09858d2fb4c02ab04fd1560b3c9"
  },
  "kernelspec": {
   "display_name": "Python 3.10.2 64-bit",
   "language": "python",
   "name": "python3"
  },
  "language_info": {
   "codemirror_mode": {
    "name": "ipython",
    "version": 3
   },
   "file_extension": ".py",
   "mimetype": "text/x-python",
   "name": "python",
   "nbconvert_exporter": "python",
   "pygments_lexer": "ipython3",
   "version": "3.10.2"
  },
  "orig_nbformat": 4
 },
 "nbformat": 4,
 "nbformat_minor": 2
}
