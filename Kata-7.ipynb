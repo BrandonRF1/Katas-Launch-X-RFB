{
 "cells": [
  {
   "cell_type": "code",
   "execution_count": null,
   "metadata": {},
   "outputs": [],
   "source": [
    "# Kata - 7\n",
    "#Ejercicio 1: Uso de ciclos while en Python\n",
    "\n",
    "from time import sleep\n",
    "\n",
    "new_planet = ''\n",
    "planets = [] \n",
    "\n",
    "while new_planet != 'salir':\n",
    "    \n",
    "    if new_planet:\n",
    "        planets.append(new_planet)\n",
    "    \n",
    "    new_planet = input('Ingrese un nuevo planeta o ingrese \"salir\" si ya acabo de agregar planetas ')\n",
    "\n",
    "print(planets)\n",
    "\n",
    "for number in planets:\n",
    "    print(number)\n",
    "    sleep(1)\n",
    "print(\"Estos fueron los planetas que escribio\")\n"
   ]
  },
  {
   "cell_type": "code",
   "execution_count": null,
   "metadata": {},
   "outputs": [],
   "source": []
  }
 ],
 "metadata": {
  "interpreter": {
   "hash": "751698ec237da9ec8f3e8b57f8fe34715419c09858d2fb4c02ab04fd1560b3c9"
  },
  "kernelspec": {
   "display_name": "Python 3.10.2 64-bit",
   "language": "python",
   "name": "python3"
  },
  "language_info": {
   "codemirror_mode": {
    "name": "ipython",
    "version": 3
   },
   "file_extension": ".py",
   "mimetype": "text/x-python",
   "name": "python",
   "nbconvert_exporter": "python",
   "pygments_lexer": "ipython3",
   "version": "3.10.2"
  },
  "orig_nbformat": 4
 },
 "nbformat": 4,
 "nbformat_minor": 2
}
